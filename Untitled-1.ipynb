{
 "cells": [
  {
   "cell_type": "code",
   "execution_count": null,
   "metadata": {},
   "outputs": [],
   "source": [
    "<!DOCTYPE html>\n",
    "<html>\n",
    "    <head>\n",
    "        <meta charset=\"UTF-8\">\n",
    "        <title>Produtos - Barbearia Alura</title>\n",
    "        <link rel=\"stylesheet\" href=\"produtos.css\">\n",
    "    </head>\n",
    "    <body>\n",
    "        <header>\n",
    "            <h1><img src=\"logo.png\"></h1>\n",
    "\n",
    "            <ul>\n",
    "                <li>Home</li>\n",
    "                <li>Produtos</li>\n",
    "                <li>Contato</li>\n",
    "            </ul>\n",
    "        </header>\n",
    "    </body>\n",
    "</html>\n"
   ]
  }
 ],
 "metadata": {
  "language_info": {
   "name": "python"
  },
  "orig_nbformat": 4
 },
 "nbformat": 4,
 "nbformat_minor": 2
}
